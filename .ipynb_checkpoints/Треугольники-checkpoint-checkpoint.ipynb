{
 "cells": [
  {
   "cell_type": "code",
   "execution_count": 7,
   "id": "9647d568",
   "metadata": {},
   "outputs": [
    {
     "name": "stdout",
     "output_type": "stream",
     "text": [
      "Стороны треугольника\n",
      "a=8\n",
      "b=5\n",
      "c=9\n",
      "Треугольник существует\n",
      "Треугольник остроугольный\n"
     ]
    }
   ],
   "source": [
    "print(\"Стороны треугольника\")\n",
    "a=float(input(\"a=\"))\n",
    "b=float(input(\"b=\"))\n",
    "c=float(input(\"c=\"))\n",
    "if a+b>c and a+c>b and b+c>a and (a>0) and (b>0) and (c>0):\n",
    "    print(\"Треугольник существует\")\n",
    "else:\n",
    "    print (\"Треугольник не существует\")\n",
    "if (a**2+b**2==c**2) or (a**2+c**2==b**2) or (b**2+c**2==a**2):\n",
    "    print (\"Треугольник прямоугольный\")\n",
    "if a**2+b**2>c**2 or a**2+c**2>b**2 or b**2+c**2>a**2:\n",
    "    print (\"Треугольник остроугольный\")\n",
    "if a**2+b**2<c**2 or a**2+c**2<b*2 or b**2+c**2<a**2:\n",
    "    print (\"Треугольник тупоугольный\")    "
   ]
  },
  {
   "cell_type": "code",
   "execution_count": null,
   "id": "915c95d2",
   "metadata": {},
   "outputs": [],
   "source": []
  }
 ],
 "metadata": {
  "kernelspec": {
   "display_name": "Python 3 (ipykernel)",
   "language": "python",
   "name": "python3"
  },
  "language_info": {
   "codemirror_mode": {
    "name": "ipython",
    "version": 3
   },
   "file_extension": ".py",
   "mimetype": "text/x-python",
   "name": "python",
   "nbconvert_exporter": "python",
   "pygments_lexer": "ipython3",
   "version": "3.9.7"
  }
 },
 "nbformat": 4,
 "nbformat_minor": 5
}
