{
 "cells": [
  {
   "cell_type": "code",
   "execution_count": 4,
   "id": "c9d4ff0a",
   "metadata": {},
   "outputs": [
    {
     "name": "stdout",
     "output_type": "stream",
     "text": [
      "         1 11 111     7 \n",
      "1111111111  4   6 11111 \n"
     ]
    }
   ],
   "source": [
    "def get_column(B, idx):\n",
    "    column = []\n",
    "    for row in B:\n",
    "        column.append(row[idx])\n",
    "    return column\n",
    "def row_column_mult(row, column):\n",
    "    res = 0\n",
    "    row_len = len(row)\n",
    "    for i in range(row_len):\n",
    "        res = res + row[i] * column[i]\n",
    "    return res\n",
    "def print_matrix_miodified(matrix):\n",
    "    colmaxlens = []\n",
    "    for col in range(len(matrix[0])):\n",
    "        colmaxlen = 0\n",
    "        for row in matrix:\n",
    "            if len(str(row[col])) > colmaxlen:\n",
    "                colmaxlen = len(str(row[col]))\n",
    "        colmaxlens.append(colmaxlen)\n",
    "    for row in matrix:\n",
    "        i = 0\n",
    "        row_str = ''\n",
    "        for el in row:\n",
    "            row_str = row_str + str(el).rjust(colmaxlens[i]) + ' '\n",
    "            i += 1\n",
    "        print(row_str)\n",
    "a = ([1,11,111,7], [1111111111,4,6,11111])\n",
    "print_matrix_miodified(a)"
   ]
  },
  {
   "cell_type": "code",
   "execution_count": null,
   "id": "70a143c9",
   "metadata": {},
   "outputs": [],
   "source": []
  }
 ],
 "metadata": {
  "kernelspec": {
   "display_name": "Python 3 (ipykernel)",
   "language": "python",
   "name": "python3"
  },
  "language_info": {
   "codemirror_mode": {
    "name": "ipython",
    "version": 3
   },
   "file_extension": ".py",
   "mimetype": "text/x-python",
   "name": "python",
   "nbconvert_exporter": "python",
   "pygments_lexer": "ipython3",
   "version": "3.9.7"
  }
 },
 "nbformat": 4,
 "nbformat_minor": 5
}
